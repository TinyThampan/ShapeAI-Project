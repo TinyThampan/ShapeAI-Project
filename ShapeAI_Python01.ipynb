{
  "nbformat": 4,
  "nbformat_minor": 0,
  "metadata": {
    "colab": {
      "name": "Welcome To Colaboratory",
      "provenance": [],
      "collapsed_sections": [],
      "include_colab_link": true
    },
    "kernelspec": {
      "display_name": "Python 3",
      "name": "python3"
    }
  },
  "cells": [
    {
      "cell_type": "markdown",
      "metadata": {
        "id": "view-in-github",
        "colab_type": "text"
      },
      "source": [
        "<a href=\"https://colab.research.google.com/github/TinyThampan/ShapeAI-Project/blob/main/ShapeAI_Python01.ipynb\" target=\"_parent\"><img src=\"https://colab.research.google.com/assets/colab-badge.svg\" alt=\"Open In Colab\"/></a>"
      ]
    },
    {
      "cell_type": "code",
      "metadata": {
        "colab": {
          "base_uri": "https://localhost:8080/"
        },
        "id": "E-9MHsdus3Q9",
        "outputId": "2ac3d425-49ae-4f44-81ad-77abe381278c"
      },
      "source": [
        " \n",
        "import requests\n",
        "import os\n",
        "from datetime import datetime\n",
        " \n",
        "api_key = '25a684ba170b644e5dec248864db3319'\n",
        "location = input(\"Enter the city name: \")\n",
        " \n",
        "complete_api_link = \"https://api.openweathermap.org/data/2.5/weather?q=\"+location+\"&appid=\"+api_key\n",
        "api_link = requests.get(complete_api_link)\n",
        "api_data = api_link.json()\n",
        " \n",
        " \n",
        "temp_city = ((api_data['main']['temp']) - 273.15)\n",
        "weather_desc = api_data['weather'][0]['description']\n",
        "hmdt = api_data['main']['humidity']\n",
        "wind_spd = api_data['wind']['speed']\n",
        "date_time = datetime.now().strftime(\"%d %b %Y | %I:%M:%S %p\")\n",
        " \n",
        "print (\"________________________________________________________________\")\n",
        "print (\"Weather Stats for - {}  || {}\".format(location.upper(), date_time))\n",
        "print (\"________________________________________________________________\")\n",
        " \n",
        "print (\"# Current temperature is: {:.2f} deg C\".format(temp_city))\n",
        "print (\"# Current weather desc  :\", weather_desc)\n",
        "print (\"# Current Humidity      :\", hmdt, '%')\n",
        "print (\"# Current wind speed    :\", wind_spd ,'kmph')\n",
        "with open('File01.txt', 'w') as f: f.write(\"city: \"+location+\"\\n\"+\"Temperature :\"+str(temp_city)+\"\\nWeather Description :\"+weather_desc+\"\\nHumidity :\"+str(hmdt)+\" %\"+\"\\nWind speed :\"+str(wind_spd)+str(wind_spd)+\" kmph\")"
      ],
      "execution_count": null,
      "outputs": [
        {
          "output_type": "stream",
          "text": [
            "Enter the city name: Idukki\n",
            "________________________________________________________________\n",
            "Weather Stats for - IDUKKI  || 22 Jun 2021 | 12:33:14 PM\n",
            "________________________________________________________________\n",
            "# Current temperature is: 22.40 deg C\n",
            "# Current weather desc  : overcast clouds\n",
            "# Current Humidity      : 93 %\n",
            "# Current wind speed    : 1.53 kmph\n"
          ],
          "name": "stdout"
        }
      ]
    }
  ]
}